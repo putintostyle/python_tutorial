{
 "cells": [
  {
   "cell_type": "markdown",
   "metadata": {},
   "source": [
    "Python 是一個高階語言，相對於C語言\n",
    "\n",
    "跟C最大不同的是，Python是不需要宣告變數型態的\n",
    "\n",
    "而且語法很像數學證明XDDD\n",
    "\n",
    "執行特定cell的方法：shift+enter"
   ]
  },
  {
   "cell_type": "markdown",
   "metadata": {},
   "source": [
    "# 宣告變數"
   ]
  },
  {
   "cell_type": "code",
   "execution_count": null,
   "metadata": {},
   "outputs": [],
   "source": []
  },
  {
   "cell_type": "markdown",
   "metadata": {},
   "source": [
    "# 宣告list\n",
    "\n",
    "這裡要小心一點，python的最主要是list，他是另外一個資料型態，不過跟array相似"
   ]
  },
  {
   "cell_type": "code",
   "execution_count": null,
   "metadata": {},
   "outputs": [],
   "source": []
  },
  {
   "cell_type": "markdown",
   "metadata": {},
   "source": [
    "# 宣告array"
   ]
  },
  {
   "cell_type": "code",
   "execution_count": null,
   "metadata": {},
   "outputs": [],
   "source": []
  },
  {
   "cell_type": "markdown",
   "metadata": {},
   "source": [
    "# for迴圈"
   ]
  },
  {
   "cell_type": "code",
   "execution_count": null,
   "metadata": {},
   "outputs": [],
   "source": [
    "for i in range(50):\n",
    "    print(i)"
   ]
  },
  {
   "cell_type": "markdown",
   "metadata": {},
   "source": [
    "```for( int i=0; i<50; i++){}```"
   ]
  },
  {
   "cell_type": "markdown",
   "metadata": {},
   "source": [
    "# 小測驗1\n",
    "利用for 跟list寫一個矩陣乘法"
   ]
  },
  {
   "cell_type": "code",
   "execution_count": null,
   "metadata": {},
   "outputs": [],
   "source": []
  },
  {
   "cell_type": "markdown",
   "metadata": {},
   "source": [
    "# 函數定義"
   ]
  },
  {
   "cell_type": "code",
   "execution_count": 6,
   "metadata": {},
   "outputs": [],
   "source": [
    "def matrixMul(A, B):\n",
    "    if len(A[0]) != len(B):\n",
    "        return \"Column size dosen't fit row size\"\n",
    "    C = []                               # 我們的邏輯是，我開一個空的array(之後我會將array跟list混用)\n",
    "    for i in range(len(A)):              # 跟C的邏輯依樣\n",
    "        tmp_arr = []                     # 因為2D array是由1D array組合起來的，所以我們之後會用append的方法加入array到array裡面\n",
    "        for j in range(len(B[0])):\n",
    "            tmp = 0\n",
    "            for k in range(len(B)):\n",
    "                tmp += A[i][k]*B[k][j]\n",
    "            tmp_arr.append(tmp)         # 就是我提到加入的方法，他是一個一個堆疊起來\n",
    "        C.append(tmp_arr)               # 把每一個row存起來\n",
    "    return C"
   ]
  },
  {
   "cell_type": "code",
   "execution_count": 8,
   "metadata": {},
   "outputs": [
    {
     "data": {
      "text/plain": [
       "[[26, 24], [109, 104]]"
      ]
     },
     "execution_count": 8,
     "metadata": {},
     "output_type": "execute_result"
    }
   ],
   "source": [
    "matA = [[1,2,3],[8,6,5]]\n",
    "matB = [[7,8],[8,5],[1,2]]\n",
    "matrixMul(matA, matB)"
   ]
  },
  {
   "cell_type": "markdown",
   "metadata": {},
   "source": []
  }
 ],
 "metadata": {
  "kernelspec": {
   "display_name": "Python 3",
   "language": "python",
   "name": "python3"
  },
  "language_info": {
   "codemirror_mode": {
    "name": "ipython",
    "version": 3
   },
   "file_extension": ".py",
   "mimetype": "text/x-python",
   "name": "python",
   "nbconvert_exporter": "python",
   "pygments_lexer": "ipython3",
   "version": "3.7.6"
  }
 },
 "nbformat": 4,
 "nbformat_minor": 4
}
